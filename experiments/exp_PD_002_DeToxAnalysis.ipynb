{
 "cells": [
  {
   "cell_type": "markdown",
   "source": [
    "# DeTox Analysis\n",
    "\n",
    "In this notebook we analyze the performance of the OpenAI content moderation model on the DeTox dataset.\n",
    "\n",
    "The results show that the predictions of the content moderation model only agree to a limited degree with the manually annotated labels of the DeTox dataset. \n",
    "\n",
    "The DeTox dataset is available [here](https://github.com/hdaSprachtechnologie/detox)."
   ],
   "metadata": {
    "collapsed": false
   },
   "id": "5bf3c444437d6d6a"
  },
  {
   "cell_type": "code",
   "outputs": [],
   "source": [
    "import sys\n",
    "\n",
    "sys.path.append(\"../src\")"
   ],
   "metadata": {
    "collapsed": false,
    "ExecuteTime": {
     "end_time": "2024-01-29T10:58:24.267883600Z",
     "start_time": "2024-01-29T10:58:24.236353100Z"
    }
   },
   "id": "3287b735353c275",
   "execution_count": 3
  },
  {
   "cell_type": "code",
   "outputs": [],
   "source": [
    "import json\n",
    "import random\n",
    "import sys\n",
    "import time\n",
    "from ast import literal_eval\n",
    "\n",
    "import openai\n",
    "import pandas as pd\n",
    "import tqdm\n",
    "from openai import OpenAI\n",
    "from sklearn.metrics import f1_score, precision_score, recall_score\n",
    "from utils.config import SECRETS, DATA_DIR"
   ],
   "metadata": {
    "collapsed": false,
    "ExecuteTime": {
     "end_time": "2024-01-29T10:58:24.219117600Z",
     "start_time": "2024-01-29T10:58:22.911867100Z"
    }
   },
   "id": "initial_id",
   "execution_count": 1
  },
  {
   "cell_type": "code",
   "outputs": [],
   "source": [
    "tqdm.tqdm.pandas()"
   ],
   "metadata": {
    "collapsed": false,
    "ExecuteTime": {
     "end_time": "2024-01-29T10:58:24.239141100Z",
     "start_time": "2024-01-29T10:58:24.222071900Z"
    }
   },
   "id": "9c9d148d34b3a9e7",
   "execution_count": 2
  },
  {
   "cell_type": "markdown",
   "source": [
    "## Creating the moderation dataset"
   ],
   "metadata": {
    "collapsed": false
   },
   "id": "6b000bdb6396d0d2"
  },
  {
   "cell_type": "code",
   "outputs": [],
   "source": [
    "df = pd.read_csv(DATA_DIR / \"detox\" / \"main_Goldstandard.csv\")"
   ],
   "metadata": {
    "collapsed": false,
    "ExecuteTime": {
     "end_time": "2024-01-29T10:58:24.536782300Z",
     "start_time": "2024-01-29T10:58:24.464189300Z"
    }
   },
   "id": "79183ad4aeec2f81",
   "execution_count": 5
  },
  {
   "cell_type": "code",
   "outputs": [
    {
     "data": {
      "text/plain": "(6436, 41)"
     },
     "execution_count": 6,
     "metadata": {},
     "output_type": "execute_result"
    }
   ],
   "source": [
    "df = df.loc[(df.incomp == 0) & (df.hate_speech.isin([0, 1]))]\n",
    "df.shape"
   ],
   "metadata": {
    "collapsed": false,
    "ExecuteTime": {
     "end_time": "2024-01-29T10:58:25.335865600Z",
     "start_time": "2024-01-29T10:58:25.311017800Z"
    }
   },
   "id": "1dac972cd3d1129a",
   "execution_count": 6
  },
  {
   "cell_type": "code",
   "outputs": [],
   "source": [
    "client = OpenAI(api_key=SECRETS.OPENAI_API_KEY)\n",
    "\n",
    "\n",
    "def get_moderation(text: str) -> dict:\n",
    "    n_retries = 0\n",
    "    while True:\n",
    "        try:\n",
    "            prediction = client.moderations.create(input=text)\n",
    "            break\n",
    "        except openai.OpenAIError as e:\n",
    "            print(f\"Retrying after error: {e}\")\n",
    "            if n_retries == 5:\n",
    "                raise e\n",
    "\n",
    "            time.sleep(2 ** n_retries + random.random())\n",
    "            n_retries += 1\n",
    "\n",
    "    return prediction.results[0].model_dump(mode=\"json\")"
   ],
   "metadata": {
    "collapsed": false,
    "ExecuteTime": {
     "end_time": "2024-01-29T10:58:27.924826300Z",
     "start_time": "2024-01-29T10:58:27.896943800Z"
    }
   },
   "id": "427de33a0784a33f",
   "execution_count": 7
  },
  {
   "cell_type": "code",
   "outputs": [
    {
     "name": "stderr",
     "output_type": "stream",
     "text": [
      "100%|██████████| 6436/6436 [36:30<00:00,  2.94it/s] \n"
     ]
    }
   ],
   "source": [
    "df[\"moderation\"] = df[\"c_text\"].progress_apply(get_moderation)"
   ],
   "metadata": {
    "collapsed": false,
    "ExecuteTime": {
     "end_time": "2024-01-29T11:35:02.250021800Z",
     "start_time": "2024-01-29T10:58:32.042415200Z"
    }
   },
   "id": "d0964a6db702afed",
   "execution_count": 8
  },
  {
   "cell_type": "code",
   "outputs": [],
   "source": [
    "df.to_csv(DATA_DIR / \"detox\" / \"main_Goldstandard_with_preds.csv\", index=False)"
   ],
   "metadata": {
    "collapsed": false,
    "ExecuteTime": {
     "end_time": "2024-01-29T11:35:02.624893400Z",
     "start_time": "2024-01-29T11:35:02.255250Z"
    }
   },
   "id": "6a35949bb0a20ea4",
   "execution_count": 9
  },
  {
   "cell_type": "markdown",
   "source": [
    "# Evaluating the model predictions"
   ],
   "metadata": {
    "collapsed": false
   },
   "id": "cbf32aea5b5f4f45"
  },
  {
   "cell_type": "code",
   "outputs": [
    {
     "data": {
      "text/plain": "0.06494717215661902"
     },
     "execution_count": 26,
     "metadata": {},
     "output_type": "execute_result"
    }
   ],
   "source": [
    "df.hate_speech.mean()"
   ],
   "metadata": {
    "collapsed": false,
    "ExecuteTime": {
     "end_time": "2024-01-29T11:39:06.804810500Z",
     "start_time": "2024-01-29T11:39:06.781596300Z"
    }
   },
   "id": "e3ff027e638539a3",
   "execution_count": 26
  },
  {
   "cell_type": "code",
   "outputs": [],
   "source": [
    "hate_speech_detox = df.hate_speech.astype(bool)\n",
    "hate_flags_openai = df.moderation.apply(lambda x: literal_eval(x)[\"categories\"][\"hate\"])"
   ],
   "metadata": {
    "collapsed": false,
    "ExecuteTime": {
     "end_time": "2024-01-29T11:39:11.118378500Z",
     "start_time": "2024-01-29T11:39:10.115838500Z"
    }
   },
   "id": "1549f4b7d4e239d",
   "execution_count": 27
  },
  {
   "cell_type": "code",
   "outputs": [
    {
     "data": {
      "text/plain": "(0.45663265306122447, 0.4890710382513661, 0.42822966507177035)"
     },
     "execution_count": 29,
     "metadata": {},
     "output_type": "execute_result"
    }
   ],
   "source": [
    "f1 = f1_score(hate_speech_detox, hate_flags_openai)\n",
    "precision = precision_score(hate_speech_detox, hate_flags_openai)\n",
    "recall = recall_score(hate_speech_detox, hate_flags_openai)\n",
    "\n",
    "f1, precision, recall"
   ],
   "metadata": {
    "collapsed": false,
    "ExecuteTime": {
     "end_time": "2024-01-29T11:41:16.267640900Z",
     "start_time": "2024-01-29T11:41:16.229569700Z"
    }
   },
   "id": "2883c5283d9e02fb",
   "execution_count": 29
  },
  {
   "cell_type": "code",
   "outputs": [],
   "source": [
    "with open(DATA_DIR / \"experiments\" / \"exp_PD_002_DeToxAnalysis.json\", \"w\") as f:\n",
    "    json.dump(\n",
    "        {\n",
    "            \"f1\": f1,\n",
    "            \"precision\": precision,\n",
    "            \"recall\": recall,\n",
    "            \"baseline\": df.hate_speech.mean(),\n",
    "        },\n",
    "        f,\n",
    "    )"
   ],
   "metadata": {
    "collapsed": false,
    "ExecuteTime": {
     "end_time": "2024-01-29T12:01:28.128454400Z",
     "start_time": "2024-01-29T12:01:28.107817100Z"
    }
   },
   "id": "d23e24b42e41be41",
   "execution_count": 34
  }
 ],
 "metadata": {
  "kernelspec": {
   "display_name": "Python 3",
   "language": "python",
   "name": "python3"
  },
  "language_info": {
   "codemirror_mode": {
    "name": "ipython",
    "version": 2
   },
   "file_extension": ".py",
   "mimetype": "text/x-python",
   "name": "python",
   "nbconvert_exporter": "python",
   "pygments_lexer": "ipython2",
   "version": "2.7.6"
  }
 },
 "nbformat": 4,
 "nbformat_minor": 5
}
